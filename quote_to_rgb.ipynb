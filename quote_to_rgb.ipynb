{
  "nbformat": 4,
  "nbformat_minor": 0,
  "metadata": {
    "colab": {
      "provenance": []
    },
    "kernelspec": {
      "name": "python3",
      "display_name": "Python 3"
    },
    "language_info": {
      "name": "python"
    }
  },
  "cells": [
    {
      "cell_type": "code",
      "source": [
        "import numpy as np\n",
        "import matplotlib.pyplot as plt\n",
        "import requests\n",
        "import textwrap"
      ],
      "metadata": {
        "id": "FYYbdp3f48eN"
      },
      "execution_count": 51,
      "outputs": []
    },
    {
      "cell_type": "code",
      "source": [
        "# URL of the quote API\n",
        "url = 'https://api.quotable.io/random'\n",
        "\n",
        "# function that pulls a random quote from the database\n",
        "def get_quote():\n",
        "  r = requests.get(url)\n",
        "  quote = r.json()\n",
        "  return (quote['content'])\n",
        "  print(quote['content'])\n",
        "  print('     -',quote['author'])\n"
      ],
      "metadata": {
        "id": "_R-xjGRavux9"
      },
      "execution_count": 3,
      "outputs": []
    },
    {
      "cell_type": "code",
      "execution_count": 4,
      "metadata": {
        "id": "4AaU-4cZw0N3"
      },
      "outputs": [],
      "source": [
        "# list that contains all letters in alphabetic order\n",
        "alphabet = ['a', 'b', 'c', 'd', 'e', 'f', 'g', 'h', 'i', 'j', 'k', 'l', 'm', 'n', 'o', 'p', 'q', 'r', 's',\n",
        "            't', 'u', 'v', 'w', 'x', 'y', 'z']\n"
      ]
    },
    {
      "cell_type": "code",
      "source": [
        "# function to turn a word into an RGB value\n",
        "def word_to_colour(word):\n",
        "    word = word.lower()\n",
        "    letters = []\n",
        "    alphabet_positions = []\n",
        "\n",
        "    for i in word:\n",
        "        if i.isalpha():  # check if the character is a letter so that punctuation will be ignored\n",
        "            letters.append(i)\n",
        "\n",
        "    letter_value = sum(ord(letter) for letter in letters)\n",
        "    alphabet_positions = [alphabet.index(letter) + 1 for letter in letters]\n",
        "    alphabet_word_value = sum(alphabet_positions)\n",
        "\n",
        "    red = letter_value % 256\n",
        "    green = alphabet_word_value % 256\n",
        "    blue = alphabet_word_value // len(letters) * 10\n",
        "\n",
        "    return red, green, blue"
      ],
      "metadata": {
        "id": "y3IlWH1v0POg"
      },
      "execution_count": 5,
      "outputs": []
    },
    {
      "cell_type": "code",
      "source": [
        "# function to determine the number of letters in a word\n",
        "def count_letters(word):\n",
        "  letter_number = 0\n",
        "  for _ in word:\n",
        "    letter_number += 1\n",
        "  return letter_number"
      ],
      "metadata": {
        "id": "-mIscqK1qWCv"
      },
      "execution_count": 7,
      "outputs": []
    },
    {
      "cell_type": "code",
      "source": [
        "# function that uses the word_to_colour funtion on all the words in a text\n",
        "def text_to_colours(text):\n",
        "    word_list = text.split()\n",
        "    red_values = []\n",
        "    green_values = []\n",
        "    blue_values = []\n",
        "\n",
        "    for char in word_list:\n",
        "      if char.isalpha: # check if the character is a letter so that punctuation will be ignored\n",
        "        red, green, blue = word_to_colour(char)\n",
        "        red_values.append(red)\n",
        "        green_values.append(green)\n",
        "        blue_values.append(blue)\n",
        "\n",
        "    return red_values, green_values, blue_values"
      ],
      "metadata": {
        "id": "kTns6qKr8SWY"
      },
      "execution_count": 8,
      "outputs": []
    },
    {
      "cell_type": "code",
      "source": [
        "# function that uses the count_letters funtion on all the words in a text\n",
        "def count_letters_in_text(text):\n",
        "    word_number_list = []\n",
        "    for word in text.split():\n",
        "        letter_number = count_letters(word)\n",
        "        word_number_list.append(letter_number)\n",
        "    return word_number_list"
      ],
      "metadata": {
        "id": "Gminf7FtrDxC"
      },
      "execution_count": 9,
      "outputs": []
    },
    {
      "cell_type": "code",
      "source": [
        "# set a variable for the quote so that it can be used for image creation\n",
        "text = get_quote()\n",
        "\n",
        "\n",
        "# create lists for all RGB values created from the text and the number of letters in each word\n",
        "red_values, green_values, blue_values = text_to_colours(text)\n",
        "word_number_list = count_letters_in_text(text)"
      ],
      "metadata": {
        "id": "7XVGMWWS_qHv"
      },
      "execution_count": 78,
      "outputs": []
    },
    {
      "cell_type": "code",
      "source": [
        "# Set the dimensions of the image\n",
        "width, height = 100, 100\n",
        "\n",
        "# Create a blank canvas (3 channels for RGB colors)\n",
        "canvas = np.zeros((height, width, 3), dtype=np.uint8)\n",
        "# set the number of iterations to the number of words in the quote\n",
        "num_iterations = len(red_values)\n",
        "\n",
        "# create a rectangle for each word, colour is dependent on RGB values and size on length of the word\n",
        "for _ in range(num_iterations):\n",
        "    x, y = np.random.randint(0, width), np.random.randint(0, height)\n",
        "    r, g, b = red_values[_], green_values[_], blue_values[_]\n",
        "    size = word_number_list[_]\n",
        "    canvas[y - 2*size:y + 7*size, x - 6*size:x + 5*size] = [r, g, b]\n",
        "    # Display the generative art image\n",
        "\n",
        "# Create a figure and axes to place text below image\n",
        "fig, ax = plt.subplots()\n",
        "\n",
        "# Display image\n",
        "ax.imshow(canvas)\n",
        "ax.axis('off')  # Turn off axis ticks and labels\n",
        "\n",
        "# position the text right below the\n",
        "left_margin = 0.05\n",
        "right_margin = 0.95\n",
        "text_start_x = width * left_margin\n",
        "text_end_x = width * right_margin\n",
        "\n",
        "# wrap the text to a width that fits the image\n",
        "wrapped_text = textwrap.fill(text, width=50)\n",
        "\n",
        "# Add the text below the image\n",
        "ax.text(text_start_x, height + 10, wrapped_text, verticalalignment='top', fontsize=10, color='black')\n",
        "plt.imshow(canvas)\n",
        "plt.axis('off')  # Turn off axis ticks and labels\n",
        "plt.show()\n"
      ],
      "metadata": {
        "colab": {
          "base_uri": "https://localhost:8080/",
          "height": 491
        },
        "id": "fBZUrBnI5NG2",
        "outputId": "2f70a9a8-34ed-4540-abc3-1d4d91d3623d"
      },
      "execution_count": 80,
      "outputs": [
        {
          "output_type": "display_data",
          "data": {
            "text/plain": [
              "<Figure size 640x480 with 1 Axes>"
            ],
            "image/png": "[encoded data removed]"
          },
          "metadata": {}
        }
      ]
    }
  ]
}